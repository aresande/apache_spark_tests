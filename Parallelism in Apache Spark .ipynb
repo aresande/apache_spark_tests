{
    "cells": [
        {
            "metadata": {},
            "cell_type": "code",
            "source": "test = sc.parallelize([34,1,23,4,3,3,12,4,3,1])\nn = float(test.count())\ntest_mean = test.sum()/n\nprint(test_mean)",
            "execution_count": 47,
            "outputs": [
                {
                    "output_type": "stream",
                    "text": "8.8\n",
                    "name": "stdout"
                }
            ]
        },
        {
            "metadata": {},
            "cell_type": "code",
            "source": "from math import sqrt\ntest_sdev = sqrt(test.map(lambda x : pow(x-test_mean,2)).sum()/n)\nprint(test_sdev)",
            "execution_count": 48,
            "outputs": [
                {
                    "output_type": "stream",
                    "text": "10.562196741208714\n",
                    "name": "stdout"
                }
            ]
        },
        {
            "metadata": {},
            "cell_type": "code",
            "source": "test_sk = test.map(lambda x : pow(x-test_mean,3)).sum()/(n*pow(test_sdev,3))\nprint(test_sk)",
            "execution_count": 49,
            "outputs": [
                {
                    "output_type": "stream",
                    "text": "1.4549069329913997\n",
                    "name": "stdout"
                }
            ]
        },
        {
            "metadata": {},
            "cell_type": "code",
            "source": "test_k = test.map(lambda x : pow(x-test_mean,4)).sum()/(n*pow(test_sdev,4))\nprint(test_k)\n",
            "execution_count": 50,
            "outputs": [
                {
                    "output_type": "stream",
                    "text": "3.663124005193276\n",
                    "name": "stdout"
                }
            ]
        },
        {
            "metadata": {},
            "cell_type": "code",
            "source": "test1 = sc.parallelize([1,2,3,4,5,6,7,8,9,10])\nn1 = float(test1.count())\ntest2 = sc.parallelize([7,6,5,4,5,6,7,8,9,10])\nn2 = float(test2.count())\ntest1_mean = test1.sum()/n1\nprint(test1_mean)\ntest2_mean = test2.sum()/n2\nprint(test2_mean)\ntest1_sdev = sqrt(test1.map(lambda x : pow(x-test1_mean,2)).sum()/n1)\ntest2_sdev = sqrt(test2.map(lambda x : pow(x-test2_mean,2)).sum()/n2)",
            "execution_count": 51,
            "outputs": [
                {
                    "output_type": "stream",
                    "text": "5.5\n6.7\n",
                    "name": "stdout"
                }
            ]
        },
        {
            "metadata": {},
            "cell_type": "code",
            "source": "test12 = test1.zip(test2)",
            "execution_count": 52,
            "outputs": []
        },
        {
            "metadata": {},
            "cell_type": "code",
            "source": "cov12 = test12.map(lambda xy : (float(xy[0])-test1_mean)*(float(xy[1])-test2_mean)).sum()/test12.count()\nprint(cov12)",
            "execution_count": 53,
            "outputs": [
                {
                    "output_type": "stream",
                    "text": "3.65\n",
                    "name": "stdout"
                }
            ]
        },
        {
            "metadata": {},
            "cell_type": "code",
            "source": "cor12 = cov12 / (test1_sdev*test2_sdev)\nprint(cor12)",
            "execution_count": 54,
            "outputs": [
                {
                    "output_type": "stream",
                    "text": "0.709272912083725\n",
                    "name": "stdout"
                }
            ]
        },
        {
            "metadata": {},
            "cell_type": "code",
            "source": "",
            "execution_count": 55,
            "outputs": [
                {
                    "output_type": "execute_result",
                    "execution_count": 55,
                    "data": {
                        "text/plain": "pyspark.rdd.RDD"
                    },
                    "metadata": {}
                }
            ]
        },
        {
            "metadata": {},
            "cell_type": "code",
            "source": "",
            "execution_count": null,
            "outputs": []
        },
        {
            "metadata": {},
            "cell_type": "code",
            "source": "",
            "execution_count": null,
            "outputs": []
        },
        {
            "metadata": {},
            "cell_type": "code",
            "source": "",
            "execution_count": null,
            "outputs": []
        },
        {
            "metadata": {},
            "cell_type": "code",
            "source": "",
            "execution_count": null,
            "outputs": []
        }
    ],
    "metadata": {
        "kernelspec": {
            "name": "python36",
            "display_name": "Python 3.6 with Spark",
            "language": "python3"
        },
        "language_info": {
            "mimetype": "text/x-python",
            "nbconvert_exporter": "python",
            "name": "python",
            "pygments_lexer": "ipython3",
            "version": "3.6.8",
            "file_extension": ".py",
            "codemirror_mode": {
                "version": 3,
                "name": "ipython"
            }
        }
    },
    "nbformat": 4,
    "nbformat_minor": 1
}